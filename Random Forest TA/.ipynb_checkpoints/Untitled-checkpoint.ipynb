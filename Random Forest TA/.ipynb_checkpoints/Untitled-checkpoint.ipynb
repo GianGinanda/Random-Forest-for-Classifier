{
 "cells": [
  {
   "cell_type": "code",
   "execution_count": 1,
   "id": "169f9d12",
   "metadata": {},
   "outputs": [],
   "source": [
    "# Packages for analysis\n",
    "import pandas as pd\n",
    "import numpy as np\n",
    "from sklearn import svm\n",
    "\n",
    "# Packages for visuals\n",
    "import matplotlib.pyplot as plt\n",
    "import seaborn as sns; sns.set(font_scale=1.2)\n",
    "\n",
    "# Allows charts to appear in the notebook\n",
    "%matplotlib inline\n",
    "\n",
    "# Pickle package\n",
    "import pickle"
   ]
  },
  {
   "cell_type": "code",
   "execution_count": 2,
   "id": "7daa8e8f",
   "metadata": {},
   "outputs": [
    {
     "ename": "ModuleNotFoundError",
     "evalue": "No module named 'mlxtend'",
     "output_type": "error",
     "traceback": [
      "\u001b[1;31m---------------------------------------------------------------------------\u001b[0m",
      "\u001b[1;31mModuleNotFoundError\u001b[0m                       Traceback (most recent call last)",
      "\u001b[1;32m~\\AppData\\Local\\Temp/ipykernel_10048/944392088.py\u001b[0m in \u001b[0;36m<module>\u001b[1;34m\u001b[0m\n\u001b[0;32m      7\u001b[0m \u001b[1;32mfrom\u001b[0m \u001b[0msklearn\u001b[0m\u001b[1;33m.\u001b[0m\u001b[0mmetrics\u001b[0m \u001b[1;32mimport\u001b[0m \u001b[0mclassification_report\u001b[0m\u001b[1;33m\u001b[0m\u001b[1;33m\u001b[0m\u001b[0m\n\u001b[0;32m      8\u001b[0m \u001b[1;32mfrom\u001b[0m \u001b[0msklearn\u001b[0m\u001b[1;33m.\u001b[0m\u001b[0mmetrics\u001b[0m \u001b[1;32mimport\u001b[0m \u001b[0mplot_confusion_matrix\u001b[0m\u001b[1;33m\u001b[0m\u001b[1;33m\u001b[0m\u001b[0m\n\u001b[1;32m----> 9\u001b[1;33m \u001b[1;32mfrom\u001b[0m \u001b[0mmlxtend\u001b[0m\u001b[1;33m.\u001b[0m\u001b[0mplotting\u001b[0m \u001b[1;32mimport\u001b[0m \u001b[0mplot_decision_regions\u001b[0m\u001b[1;33m\u001b[0m\u001b[1;33m\u001b[0m\u001b[0m\n\u001b[0m",
      "\u001b[1;31mModuleNotFoundError\u001b[0m: No module named 'mlxtend'"
     ]
    }
   ],
   "source": [
    "from sklearn import svm, datasets\n",
    "import sklearn.model_selection as model_selection\n",
    "from sklearn.metrics import accuracy_score\n",
    "from sklearn.metrics import f1_score\n",
    "from sklearn.model_selection import train_test_split\n",
    "from sklearn.metrics import confusion_matrix\n",
    "from sklearn.metrics import classification_report\n",
    "from sklearn.metrics import plot_confusion_matrix\n",
    "from mlxtend.plotting import plot_decision_regions"
   ]
  },
  {
   "cell_type": "code",
   "execution_count": null,
   "id": "ef6d3634",
   "metadata": {},
   "outputs": [],
   "source": [
    "# Import data dari CSV\n",
    "data = pd.read_csv('./acak.csv')\n",
    "data.head()"
   ]
  },
  {
   "cell_type": "code",
   "execution_count": null,
   "id": "53a1b21c",
   "metadata": {},
   "outputs": [],
   "source": [
    "# Konversi tiap value kedalam bentuk angka\n",
    "data.loc[data['Sensor1'] == 'NoData', 'Sensor1'] = 0\n",
    "data.loc[data['Sensor1'] == 'Less', 'Sensor1'] = 1\n",
    "data.loc[data['Sensor1'] == 'More', 'Sensor1'] = 2\n",
    "\n",
    "data.loc[data['Sensor2'] == 'NoData', 'Sensor2'] = 0\n",
    "data.loc[data['Sensor2'] == 'Less', 'Sensor2'] = 1\n",
    "data.loc[data['Sensor2'] == 'More', 'Sensor2'] = 2\n",
    "\n",
    "data.loc[data['Sensor3'] == 'NoData', 'Sensor3'] = 0\n",
    "data.loc[data['Sensor3'] == 'Less', 'Sensor3'] = 1\n",
    "data.loc[data['Sensor3'] == 'More', 'Sensor3'] = 2\n",
    "\n",
    "data.loc[data['Sensor4'] == 'NoData', 'Sensor4'] = 0\n",
    "data.loc[data['Sensor4'] == 'Less', 'Sensor4'] = 1\n",
    "data.loc[data['Sensor4'] == 'More', 'Sensor4'] = 2\n",
    "\n",
    "data.loc[data['Sensor5'] == 'NoData', 'Sensor5'] = 0\n",
    "data.loc[data['Sensor5'] == 'Less', 'Sensor5'] = 1\n",
    "data.loc[data['Sensor5'] == 'More', 'Sensor5'] = 2\n",
    "\n",
    "data.loc[data['Sensor6'] == 'NoData', 'Sensor6'] = 0\n",
    "data.loc[data['Sensor6'] == 'Less', 'Sensor6'] = 1\n",
    "data.loc[data['Sensor6'] == 'More', 'Sensor6'] = 2\n",
    "\n",
    "data.loc[data['Sensor7'] == 'NoData', 'Sensor7'] = 0\n",
    "data.loc[data['Sensor7'] == 'Less', 'Sensor7'] = 1\n",
    "data.loc[data['Sensor7'] == 'More', 'Sensor7'] = 2\n",
    "\n",
    "data.loc[data['Sensor8'] == 'NoData', 'Sensor8'] = 0\n",
    "data.loc[data['Sensor8'] == 'Less', 'Sensor8'] = 1\n",
    "data.loc[data['Sensor8'] == 'More', 'Sensor8'] = 2\n",
    "\n",
    "data.loc[data['Sensor9'] == 'NoData', 'Sensor9'] = 0\n",
    "data.loc[data['Sensor9'] == 'Less', 'Sensor9'] = 1\n",
    "data.loc[data['Sensor9'] == 'More', 'Sensor9'] = 2\n",
    "\n",
    "data.loc[data['Sensor10'] == 'NoData', 'Sensor10'] = 0\n",
    "data.loc[data['Sensor10'] == 'Less', 'Sensor10'] = 1\n",
    "data.loc[data['Sensor10'] == 'More', 'Sensor10'] = 2\n",
    "\n",
    "data.loc[data['Kondisi'] == 'Vandalisme', 'Kondisi'] = 3\n",
    "data.loc[data['Kondisi'] == 'Normal', 'Kondisi'] = 0\n",
    "data.loc[data['Kondisi'] == 'GempaTidakMerusak', 'Kondisi'] = 2\n",
    "data.loc[data['Kondisi'] == 'GempaMerusak', 'Kondisi'] = 1\n",
    "\n",
    "data = data.apply(pd.to_numeric, errors='coerce')\n",
    "data.head()"
   ]
  },
  {
   "cell_type": "code",
   "execution_count": null,
   "id": "c8023a74",
   "metadata": {},
   "outputs": [],
   "source": [
    "X = data.iloc[:, [0,1,2,3,4,5]].values  # Independent Feature\n",
    "y = data.iloc[:, -1].values             # Dependent Feature\n",
    "# Pisahkan atribut untuk training & test\n",
    "X_train, X_test, y_train, y_test = train_test_split(X, y, test_size = 0.25, random_state = 0)"
   ]
  },
  {
   "cell_type": "code",
   "execution_count": null,
   "id": "656e2c2e",
   "metadata": {},
   "outputs": [],
   "source": [
    "rbf = svm.SVC(kernel='rbf', gamma=0.5, C=0.1).fit(X_train, y_train)\n",
    "poly = svm.SVC(kernel='poly', degree=3, C=1).fit(X_train, y_train)"
   ]
  },
  {
   "cell_type": "code",
   "execution_count": null,
   "id": "6275e2dc",
   "metadata": {},
   "outputs": [],
   "source": [
    "poly_pred = poly.predict(X_test)\n",
    "rbf_pred = rbf.predict(X_test)"
   ]
  },
  {
   "cell_type": "code",
   "execution_count": null,
   "id": "06fefe33",
   "metadata": {},
   "outputs": [],
   "source": [
    "poly_accuracy = accuracy_score(y_test, poly_pred)\n",
    "poly_f1 = f1_score(y_test, poly_pred, average='weighted')\n",
    "print('Accuracy (Polynomial Kernel): ', \"%.2f\" % (poly_accuracy*100))\n",
    "print('F1 (Polynomial Kernel): ', \"%.2f\" % (poly_f1*100))"
   ]
  },
  {
   "cell_type": "code",
   "execution_count": null,
   "id": "61f7c40e",
   "metadata": {},
   "outputs": [],
   "source": [
    "rbf_accuracy = accuracy_score(y_test, rbf_pred)\n",
    "rbf_f1 = f1_score(y_test, rbf_pred, average='weighted')\n",
    "print('Accuracy (RBF Kernel): ', \"%.2f\" % (rbf_accuracy*100))\n",
    "print('F1 (RBF Kernel): ', \"%.2f\" % (rbf_f1*100))"
   ]
  },
  {
   "cell_type": "code",
   "execution_count": null,
   "id": "f68d1f00",
   "metadata": {},
   "outputs": [],
   "source": [
    "from sklearn.metrics import classification_report\n",
    "y_pred = poly.predict(X_test)\n",
    "print(classification_report(y_test, y_pred))"
   ]
  },
  {
   "cell_type": "code",
   "execution_count": null,
   "id": "cafdb653",
   "metadata": {},
   "outputs": [],
   "source": [
    "from sklearn.metrics import classification_report\n",
    "y_pred = rbf.predict(X_test)\n",
    "print(classification_report(y_test, y_pred))"
   ]
  },
  {
   "cell_type": "code",
   "execution_count": null,
   "id": "203353cf",
   "metadata": {},
   "outputs": [],
   "source": [
    "#K-fold Cross Validation\n",
    "# Import cross_val_score function\n",
    "from sklearn.model_selection import cross_val_score\n",
    "# 10-fold CV\n",
    "scores = cross_val_score(rbf, X_train, y_train, scoring ='r2', cv =100)\n",
    "scores"
   ]
  },
  {
   "cell_type": "code",
   "execution_count": null,
   "id": "b5fc3f72",
   "metadata": {},
   "outputs": [],
   "source": [
    "#Printting the average score\n",
    "print(np.mean(scores))"
   ]
  },
  {
   "cell_type": "code",
   "execution_count": null,
   "id": "6e101fea",
   "metadata": {},
   "outputs": [],
   "source": []
  },
  {
   "cell_type": "code",
   "execution_count": null,
   "id": "d7563274",
   "metadata": {},
   "outputs": [],
   "source": []
  },
  {
   "cell_type": "code",
   "execution_count": null,
   "id": "1d4da147",
   "metadata": {},
   "outputs": [],
   "source": []
  },
  {
   "cell_type": "code",
   "execution_count": null,
   "id": "aaf1ab19",
   "metadata": {},
   "outputs": [],
   "source": []
  },
  {
   "cell_type": "code",
   "execution_count": null,
   "id": "ce9181ad",
   "metadata": {},
   "outputs": [],
   "source": []
  },
  {
   "cell_type": "code",
   "execution_count": null,
   "id": "0b3eb435",
   "metadata": {},
   "outputs": [],
   "source": []
  },
  {
   "cell_type": "code",
   "execution_count": null,
   "id": "1ca8badb",
   "metadata": {},
   "outputs": [],
   "source": []
  }
 ],
 "metadata": {
  "kernelspec": {
   "display_name": "Python 3 (ipykernel)",
   "language": "python",
   "name": "python3"
  },
  "language_info": {
   "codemirror_mode": {
    "name": "ipython",
    "version": 3
   },
   "file_extension": ".py",
   "mimetype": "text/x-python",
   "name": "python",
   "nbconvert_exporter": "python",
   "pygments_lexer": "ipython3",
   "version": "3.9.0"
  }
 },
 "nbformat": 4,
 "nbformat_minor": 5
}
